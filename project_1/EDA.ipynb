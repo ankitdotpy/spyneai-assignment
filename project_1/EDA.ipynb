{
 "cells": [
  {
   "cell_type": "code",
   "execution_count": 8,
   "metadata": {},
   "outputs": [
    {
     "name": "stdout",
     "output_type": "stream",
     "text": [
      "(600, 800, 3) (600, 800) (170, 719)\n",
      "(2160, 3840, 4)\n",
      "(2160, 3840, 4)\n"
     ]
    }
   ],
   "source": [
    "import os\n",
    "from pathlib import Path\n",
    "\n",
    "import cv2\n",
    "import numpy as np\n",
    "import matplotlib.pyplot as plt\n",
    "from utils import (\n",
    "    load_image_and_masks,\n",
    "    detect_background,\n",
    "    clean_mask\n",
    ")\n",
    "\n",
    "DATA_ROOT = Path('./data')\n",
    "\n",
    "IMAGES_ROOT = DATA_ROOT / 'images'\n",
    "MASKS_DIR = DATA_ROOT / 'car_masks'\n",
    "SHADOW_DIR = DATA_ROOT / 'shadow_masks'\n",
    "\n",
    "def extract_car_image(image, mask):\n",
    "    mask = clean_mask(mask)\n",
    "    extracted_car = cv2.bitwise_and(image, image, mask=mask)\n",
    "    return extracted_car\n",
    "\n",
    "def create_background(floor, wall):\n",
    "    start_row_floor, end_row_floor = detect_background(floor)\n",
    "    _, end_row_wall = detect_background(wall)\n",
    "    background = np.vstack((wall[int(end_row_wall-0.7*end_row_wall):end_row_wall, :], floor[start_row_floor:end_row_floor, :]))\n",
    "    return background\n",
    "\n",
    "def extract_car_images(car_image, car_mask):\n",
    "    car_mask = clean_mask(car_mask)\n",
    "    extracted_car = extract_car_image(car_image, car_mask)\n",
    "    return extracted_car\n",
    "\n",
    "def compose_image(image_path):\n",
    "    car_image, car_mask, shadow_mask = load_image_and_masks(image_path)\n",
    "    print(car_image.shape, car_mask.shape, shadow_mask.shape)\n",
    "    floor = cv2.imread(DATA_ROOT / 'floor.png', cv2.IMREAD_UNCHANGED)\n",
    "    print(floor.shape)\n",
    "    wall = cv2.imread(DATA_ROOT / 'wall.png', cv2.IMREAD_UNCHANGED)\n",
    "    print(wall.shape)\n",
    "    background = create_background(floor, wall)\n",
    "    cv2.imwrite('background.jpeg', background)\n",
    "    extracted_car = extract_car_images(car_image, car_mask)\n",
    "    cv2.imwrite('car.png', extracted_car)\n",
    "\n",
    "if __name__ == '__main__':\n",
    "    compose_image(IMAGES_ROOT / '3.jpeg')"
   ]
  },
  {
   "cell_type": "code",
   "execution_count": 10,
   "metadata": {},
   "outputs": [
    {
     "name": "stdout",
     "output_type": "stream",
     "text": [
      "data/images/4.jpeg - (1536, 2048, 3) - (1536, 2048) - (214, 1536)\n",
      "data/images/1.jpeg - (1095, 1460, 3) - (1095, 1460) - (542, 1116)\n",
      "data/images/3.jpeg - (600, 800, 3) - (600, 800) - (170, 719)\n",
      "data/images/2.jpeg - (768, 1024, 3) - (768, 1024) - (217, 519)\n",
      "data/images/6.jpeg - (1080, 1920, 3) - (1080, 1920) - (455, 1018)\n",
      "data/images/5.jpeg - (768, 1024, 3) - (768, 1024) - (272, 679)\n"
     ]
    }
   ],
   "source": [
    "for img in IMAGES_ROOT.glob('*.jpeg'):\n",
    "    image, mask, shadow_mask = load_image_and_masks(img)\n",
    "    print(f\"{img} - {image.shape} - {mask.shape} - {shadow_mask.shape}\")"
   ]
  },
  {
   "cell_type": "code",
   "execution_count": 7,
   "metadata": {},
   "outputs": [
    {
     "name": "stdout",
     "output_type": "stream",
     "text": [
      "here\n",
      "(1095, 1460, 3) (1095, 1460, 1) (2818, 3840, 4)\n",
      "251 965 126 1335\n",
      "(714, 1209, 4) (542, 1116)\n",
      "done\n"
     ]
    }
   ],
   "source": [
    "import os\n",
    "from pathlib import Path\n",
    "\n",
    "import cv2\n",
    "import numpy as np\n",
    "import matplotlib.pyplot as plt\n",
    "from utils import (\n",
    "    load_image_and_masks,\n",
    "    detect_background,\n",
    "    clean_mask\n",
    ")\n",
    "\n",
    "DATA_ROOT = Path('./data')\n",
    "\n",
    "IMAGES_ROOT = DATA_ROOT / 'images'\n",
    "MASKS_DIR = DATA_ROOT / 'car_masks'\n",
    "SHADOW_DIR = DATA_ROOT / 'shadow_masks'\n",
    "\n",
    "def extract_car_image(image, mask):\n",
    "    mask = clean_mask(mask)\n",
    "    extracted_car = cv2.bitwise_and(image, image, mask=mask)\n",
    "    return extracted_car\n",
    "\n",
    "def create_background(floor, wall):\n",
    "    start_row_floor, end_row_floor = detect_background(floor)\n",
    "    start_row_wall, end_row_wall = detect_background(wall)\n",
    "    background = np.vstack((wall[:end_row_wall, :], floor[start_row_floor:, :]))\n",
    "    return background\n",
    "\n",
    "def extract_car_images(car_image, car_mask):\n",
    "    car_mask = clean_mask(car_mask)\n",
    "    extracted_car = extract_car_image(car_image, car_mask)\n",
    "    return extracted_car\n",
    "\n",
    "def compose_image(image_path):\n",
    "    car_image, car_mask, shadow_mask = load_image_and_masks(image_path)\n",
    "    floor = cv2.imread(DATA_ROOT / 'floor.png', cv2.IMREAD_UNCHANGED)\n",
    "    wall = cv2.imread(DATA_ROOT / 'wall.png', cv2.IMREAD_UNCHANGED)\n",
    "    background = create_background(floor, wall)\n",
    "    car_mask = clean_mask(car_mask)\n",
    "    car_mask_reshaped = np.expand_dims(car_mask, axis=-1)\n",
    "    print(car_image.shape, car_mask_reshaped.shape, background.shape)\n",
    "    extracted_car = np.concatenate((car_image, car_mask_reshaped), axis=-1)\n",
    "    st_row, end_row = detect_background(extracted_car)\n",
    "    st_col, end_col = detect_background(extracted_car, axis=0)\n",
    "    st_row -= 5\n",
    "    end_row += 5\n",
    "    st_col -= 5\n",
    "    end_col += 5\n",
    "    print(st_row, end_row, st_col, end_col)\n",
    "    extracted_car = extracted_car[st_row:end_row, st_col:end_col, :]\n",
    "    print(extracted_car.shape, shadow_mask.shape)\n",
    "    # cv2.imwrite('car_extracted.png', extracted_car)\n",
    "    # cv2.imwrite('background.png', background)\n",
    "    print('done')\n",
    "\n",
    "if __name__ == '__main__':\n",
    "    compose_image(IMAGES_ROOT / '1.jpeg')"
   ]
  },
  {
   "cell_type": "code",
   "execution_count": 9,
   "metadata": {},
   "outputs": [
    {
     "data": {
      "text/plain": [
       "(1080, 1920, 3)"
      ]
     },
     "execution_count": 9,
     "metadata": {},
     "output_type": "execute_result"
    }
   ],
   "source": [
    "cv2.imread(DATA_ROOT / 'sample-output.jpg', cv2.IMREAD_UNCHANGED).shape"
   ]
  },
  {
   "cell_type": "code",
   "execution_count": null,
   "metadata": {},
   "outputs": [],
   "source": []
  }
 ],
 "metadata": {
  "kernelspec": {
   "display_name": "venv",
   "language": "python",
   "name": "python3"
  },
  "language_info": {
   "codemirror_mode": {
    "name": "ipython",
    "version": 3
   },
   "file_extension": ".py",
   "mimetype": "text/x-python",
   "name": "python",
   "nbconvert_exporter": "python",
   "pygments_lexer": "ipython3",
   "version": "3.11.7"
  }
 },
 "nbformat": 4,
 "nbformat_minor": 2
}
